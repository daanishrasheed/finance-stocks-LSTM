{
 "cells": [
  {
   "cell_type": "markdown",
   "metadata": {},
   "source": [
    "\n",
    "1. Load our dataset and libraries\n",
    "2. Prepare our data via upsampling and backfilling\n",
    "3. Identify the p, d, and q terms for our ARIMA model through statistical and visual methods\n",
    "4. Train an ARIMA model\n",
    "5. Compare the model predictions and actual test data"
   ]
  },
  {
   "cell_type": "markdown",
   "metadata": {},
   "source": [
    "### Quick intro to ARIMA\n",
    "Auto Regressive Integrated Moving Average, or ARIMA for short, is a forecasting model for time-series data. \n",
    "\n",
    "ARIMA is composed of three components:\n",
    "1. AR - AutoRegression\n",
    "2. I - Integrated\n",
    "3. MA - Moving Average\n",
    "\n",
    "The ARIMA model models three aspects of a time series: seasonality (how cyclical pattern is), trend (which direction is the plot moving towards over time), and noise (how much random variability there is in the data). \n",
    "\n",
    "These aspects are represented by the parameters <em>p</em>, <em>d</em>, and <em>q</em>.\n",
    "\n",
    "- p: number of non-regressive terms (for AR)\n",
    "- d: number of non-seasonable differences (for I)\n",
    "- q: number of moving average terms (for MA)\n",
    "\n",
    "Ideally, we must transform our time series such that it remains stationary, i.e. hover around 0. Removing trends and seasonality makes modelling easier and more accurate.\n",
    "\n",
    "This part serves the purpose of providing contrasting results to our LSTM results."
   ]
  },
  {
   "cell_type": "code",
   "execution_count": 2,
   "metadata": {},
   "outputs": [],
   "source": [
    "import pandas as pd\n",
    "import matplotlib.pyplot as plt"
   ]
  },
  {
   "cell_type": "code",
   "execution_count": 3,
   "metadata": {},
   "outputs": [
    {
     "data": {
      "text/html": [
       "<div>\n",
       "<style scoped>\n",
       "    .dataframe tbody tr th:only-of-type {\n",
       "        vertical-align: middle;\n",
       "    }\n",
       "\n",
       "    .dataframe tbody tr th {\n",
       "        vertical-align: top;\n",
       "    }\n",
       "\n",
       "    .dataframe thead th {\n",
       "        text-align: right;\n",
       "    }\n",
       "</style>\n",
       "<table border=\"1\" class=\"dataframe\">\n",
       "  <thead>\n",
       "    <tr style=\"text-align: right;\">\n",
       "      <th></th>\n",
       "      <th>Open</th>\n",
       "      <th>High</th>\n",
       "      <th>Low</th>\n",
       "      <th>Close</th>\n",
       "      <th>Adj Close</th>\n",
       "      <th>Volume</th>\n",
       "    </tr>\n",
       "    <tr>\n",
       "      <th>Date</th>\n",
       "      <th></th>\n",
       "      <th></th>\n",
       "      <th></th>\n",
       "      <th></th>\n",
       "      <th></th>\n",
       "      <th></th>\n",
       "    </tr>\n",
       "  </thead>\n",
       "  <tbody>\n",
       "    <tr>\n",
       "      <th>2019-06-25</th>\n",
       "      <td>2945.780029</td>\n",
       "      <td>2946.520020</td>\n",
       "      <td>2916.010010</td>\n",
       "      <td>2917.379883</td>\n",
       "      <td>2917.379883</td>\n",
       "      <td>3578050000</td>\n",
       "    </tr>\n",
       "    <tr>\n",
       "      <th>2019-06-26</th>\n",
       "      <td>2926.070068</td>\n",
       "      <td>2932.590088</td>\n",
       "      <td>2912.989990</td>\n",
       "      <td>2913.780029</td>\n",
       "      <td>2913.780029</td>\n",
       "      <td>3478130000</td>\n",
       "    </tr>\n",
       "    <tr>\n",
       "      <th>2019-06-27</th>\n",
       "      <td>2919.659912</td>\n",
       "      <td>2929.300049</td>\n",
       "      <td>2918.570068</td>\n",
       "      <td>2924.919922</td>\n",
       "      <td>2924.919922</td>\n",
       "      <td>3122920000</td>\n",
       "    </tr>\n",
       "    <tr>\n",
       "      <th>2019-06-28</th>\n",
       "      <td>2932.939941</td>\n",
       "      <td>2943.979980</td>\n",
       "      <td>2929.050049</td>\n",
       "      <td>2941.760010</td>\n",
       "      <td>2941.760010</td>\n",
       "      <td>5420700000</td>\n",
       "    </tr>\n",
       "    <tr>\n",
       "      <th>2019-07-01</th>\n",
       "      <td>2971.409912</td>\n",
       "      <td>2977.929932</td>\n",
       "      <td>2952.219971</td>\n",
       "      <td>2964.330078</td>\n",
       "      <td>2964.330078</td>\n",
       "      <td>3513270000</td>\n",
       "    </tr>\n",
       "  </tbody>\n",
       "</table>\n",
       "</div>"
      ],
      "text/plain": [
       "                   Open         High          Low        Close    Adj Close  \\\n",
       "Date                                                                          \n",
       "2019-06-25  2945.780029  2946.520020  2916.010010  2917.379883  2917.379883   \n",
       "2019-06-26  2926.070068  2932.590088  2912.989990  2913.780029  2913.780029   \n",
       "2019-06-27  2919.659912  2929.300049  2918.570068  2924.919922  2924.919922   \n",
       "2019-06-28  2932.939941  2943.979980  2929.050049  2941.760010  2941.760010   \n",
       "2019-07-01  2971.409912  2977.929932  2952.219971  2964.330078  2964.330078   \n",
       "\n",
       "                Volume  \n",
       "Date                    \n",
       "2019-06-25  3578050000  \n",
       "2019-06-26  3478130000  \n",
       "2019-06-27  3122920000  \n",
       "2019-06-28  5420700000  \n",
       "2019-07-01  3513270000  "
      ]
     },
     "execution_count": 3,
     "metadata": {},
     "output_type": "execute_result"
    }
   ],
   "source": [
    "df = pd.read_csv('S&P_Stock_Data.csv')\n",
    "df = df.set_index('Date')\n",
    "df.tail()"
   ]
  },
  {
   "cell_type": "code",
   "execution_count": 4,
   "metadata": {
    "scrolled": true
   },
   "outputs": [
    {
     "data": {
      "image/png": "[encoded data removed]",
      "text/plain": [
       "<Figure size 432x288 with 1 Axes>"
      ]
     },
     "metadata": {
      "needs_background": "light"
     },
     "output_type": "display_data"
    }
   ],
   "source": [
    "ax = plt.gca()\n",
    "df.plot(kind = 'line', y = 'Open', ax = ax)\n",
    "plt.show()"
   ]
  },
  {
   "cell_type": "code",
   "execution_count": 5,
   "metadata": {},
   "outputs": [],
   "source": [
    "df.index= pd.to_datetime(df.index)"
   ]
  },
  {
   "cell_type": "markdown",
   "metadata": {},
   "source": [
    "## Data preparation\n",
    "\n",
    "Current dataset does not have continuous dates in the index because the prices are only available on weekdays. \n",
    "\n"
   ]
  },
  {
   "cell_type": "code",
   "execution_count": 6,
   "metadata": {},
   "outputs": [
    {
     "data": {
      "text/html": [
       "<div>\n",
       "<style scoped>\n",
       "    .dataframe tbody tr th:only-of-type {\n",
       "        vertical-align: middle;\n",
       "    }\n",
       "\n",
       "    .dataframe tbody tr th {\n",
       "        vertical-align: top;\n",
       "    }\n",
       "\n",
       "    .dataframe thead th {\n",
       "        text-align: right;\n",
       "    }\n",
       "</style>\n",
       "<table border=\"1\" class=\"dataframe\">\n",
       "  <thead>\n",
       "    <tr style=\"text-align: right;\">\n",
       "      <th></th>\n",
       "      <th>Open</th>\n",
       "      <th>High</th>\n",
       "      <th>Low</th>\n",
       "      <th>Close</th>\n",
       "      <th>Adj Close</th>\n",
       "      <th>Volume</th>\n",
       "    </tr>\n",
       "    <tr>\n",
       "      <th>Date</th>\n",
       "      <th></th>\n",
       "      <th></th>\n",
       "      <th></th>\n",
       "      <th></th>\n",
       "      <th></th>\n",
       "      <th></th>\n",
       "    </tr>\n",
       "  </thead>\n",
       "  <tbody>\n",
       "    <tr>\n",
       "      <th>2000-01-03</th>\n",
       "      <td>1469.250000</td>\n",
       "      <td>1478.000000</td>\n",
       "      <td>1438.359985</td>\n",
       "      <td>1455.219971</td>\n",
       "      <td>1455.219971</td>\n",
       "      <td>931800000</td>\n",
       "    </tr>\n",
       "    <tr>\n",
       "      <th>2000-01-04</th>\n",
       "      <td>1455.219971</td>\n",
       "      <td>1455.219971</td>\n",
       "      <td>1397.430054</td>\n",
       "      <td>1399.420044</td>\n",
       "      <td>1399.420044</td>\n",
       "      <td>1009000000</td>\n",
       "    </tr>\n",
       "    <tr>\n",
       "      <th>2000-01-05</th>\n",
       "      <td>1399.420044</td>\n",
       "      <td>1413.270020</td>\n",
       "      <td>1377.680054</td>\n",
       "      <td>1402.109985</td>\n",
       "      <td>1402.109985</td>\n",
       "      <td>1085500000</td>\n",
       "    </tr>\n",
       "    <tr>\n",
       "      <th>2000-01-06</th>\n",
       "      <td>1402.109985</td>\n",
       "      <td>1411.900024</td>\n",
       "      <td>1392.099976</td>\n",
       "      <td>1403.449951</td>\n",
       "      <td>1403.449951</td>\n",
       "      <td>1092300000</td>\n",
       "    </tr>\n",
       "    <tr>\n",
       "      <th>2000-01-07</th>\n",
       "      <td>1403.449951</td>\n",
       "      <td>1441.469971</td>\n",
       "      <td>1400.729980</td>\n",
       "      <td>1441.469971</td>\n",
       "      <td>1441.469971</td>\n",
       "      <td>1225200000</td>\n",
       "    </tr>\n",
       "    <tr>\n",
       "      <th>2000-01-08</th>\n",
       "      <td>1441.469971</td>\n",
       "      <td>1464.359985</td>\n",
       "      <td>1441.469971</td>\n",
       "      <td>1457.599976</td>\n",
       "      <td>1457.599976</td>\n",
       "      <td>1064800000</td>\n",
       "    </tr>\n",
       "    <tr>\n",
       "      <th>2000-01-09</th>\n",
       "      <td>1441.469971</td>\n",
       "      <td>1464.359985</td>\n",
       "      <td>1441.469971</td>\n",
       "      <td>1457.599976</td>\n",
       "      <td>1457.599976</td>\n",
       "      <td>1064800000</td>\n",
       "    </tr>\n",
       "    <tr>\n",
       "      <th>2000-01-10</th>\n",
       "      <td>1441.469971</td>\n",
       "      <td>1464.359985</td>\n",
       "      <td>1441.469971</td>\n",
       "      <td>1457.599976</td>\n",
       "      <td>1457.599976</td>\n",
       "      <td>1064800000</td>\n",
       "    </tr>\n",
       "    <tr>\n",
       "      <th>2000-01-11</th>\n",
       "      <td>1457.599976</td>\n",
       "      <td>1458.660034</td>\n",
       "      <td>1434.420044</td>\n",
       "      <td>1438.560059</td>\n",
       "      <td>1438.560059</td>\n",
       "      <td>1014000000</td>\n",
       "    </tr>\n",
       "    <tr>\n",
       "      <th>2000-01-12</th>\n",
       "      <td>1438.560059</td>\n",
       "      <td>1442.599976</td>\n",
       "      <td>1427.079956</td>\n",
       "      <td>1432.250000</td>\n",
       "      <td>1432.250000</td>\n",
       "      <td>974600000</td>\n",
       "    </tr>\n",
       "  </tbody>\n",
       "</table>\n",
       "</div>"
      ],
      "text/plain": [
       "                   Open         High          Low        Close    Adj Close  \\\n",
       "Date                                                                          \n",
       "2000-01-03  1469.250000  1478.000000  1438.359985  1455.219971  1455.219971   \n",
       "2000-01-04  1455.219971  1455.219971  1397.430054  1399.420044  1399.420044   \n",
       "2000-01-05  1399.420044  1413.270020  1377.680054  1402.109985  1402.109985   \n",
       "2000-01-06  1402.109985  1411.900024  1392.099976  1403.449951  1403.449951   \n",
       "2000-01-07  1403.449951  1441.469971  1400.729980  1441.469971  1441.469971   \n",
       "2000-01-08  1441.469971  1464.359985  1441.469971  1457.599976  1457.599976   \n",
       "2000-01-09  1441.469971  1464.359985  1441.469971  1457.599976  1457.599976   \n",
       "2000-01-10  1441.469971  1464.359985  1441.469971  1457.599976  1457.599976   \n",
       "2000-01-11  1457.599976  1458.660034  1434.420044  1438.560059  1438.560059   \n",
       "2000-01-12  1438.560059  1442.599976  1427.079956  1432.250000  1432.250000   \n",
       "\n",
       "                Volume  \n",
       "Date                    \n",
       "2000-01-03   931800000  \n",
       "2000-01-04  1009000000  \n",
       "2000-01-05  1085500000  \n",
       "2000-01-06  1092300000  \n",
       "2000-01-07  1225200000  \n",
       "2000-01-08  1064800000  \n",
       "2000-01-09  1064800000  \n",
       "2000-01-10  1064800000  \n",
       "2000-01-11  1014000000  \n",
       "2000-01-12   974600000  "
      ]
     },
     "execution_count": 6,
     "metadata": {},
     "output_type": "execute_result"
    }
   ],
   "source": [
    "df = df.asfreq(freq = 'D', method = 'bfill')\n",
    "df.head(10)"
   ]
  },
  {
   "cell_type": "code",
   "execution_count": 7,
   "metadata": {},
   "outputs": [
    {
     "data": {
      "image/png": "[encoded data removed]",
      "text/plain": [
       "<Figure size 432x288 with 1 Axes>"
      ]
     },
     "metadata": {
      "needs_background": "light"
     },
     "output_type": "display_data"
    }
   ],
   "source": [
    "df.plot(kind = 'line', y = 'Open')\n",
    "plt.show()"
   ]
  },
  {
   "cell_type": "markdown",
   "metadata": {},
   "source": [
    "We need to create a column that contains the difference between the current Open price and the previous timeframe's Open."
   ]
  },
  {
   "cell_type": "code",
   "execution_count": 8,
   "metadata": {},
   "outputs": [],
   "source": [
    "df['first_diff'] = df['Open'].diff()"
   ]
  },
  {
   "cell_type": "code",
   "execution_count": 9,
   "metadata": {},
   "outputs": [
    {
     "data": {
      "text/html": [
       "<div>\n",
       "<style scoped>\n",
       "    .dataframe tbody tr th:only-of-type {\n",
       "        vertical-align: middle;\n",
       "    }\n",
       "\n",
       "    .dataframe tbody tr th {\n",
       "        vertical-align: top;\n",
       "    }\n",
       "\n",
       "    .dataframe thead th {\n",
       "        text-align: right;\n",
       "    }\n",
       "</style>\n",
       "<table border=\"1\" class=\"dataframe\">\n",
       "  <thead>\n",
       "    <tr style=\"text-align: right;\">\n",
       "      <th></th>\n",
       "      <th>Open</th>\n",
       "      <th>High</th>\n",
       "      <th>Low</th>\n",
       "      <th>Close</th>\n",
       "      <th>Adj Close</th>\n",
       "      <th>Volume</th>\n",
       "      <th>first_diff</th>\n",
       "    </tr>\n",
       "    <tr>\n",
       "      <th>Date</th>\n",
       "      <th></th>\n",
       "      <th></th>\n",
       "      <th></th>\n",
       "      <th></th>\n",
       "      <th></th>\n",
       "      <th></th>\n",
       "      <th></th>\n",
       "    </tr>\n",
       "  </thead>\n",
       "  <tbody>\n",
       "    <tr>\n",
       "      <th>2000-01-03</th>\n",
       "      <td>1469.250000</td>\n",
       "      <td>1478.000000</td>\n",
       "      <td>1438.359985</td>\n",
       "      <td>1455.219971</td>\n",
       "      <td>1455.219971</td>\n",
       "      <td>931800000</td>\n",
       "      <td>NaN</td>\n",
       "    </tr>\n",
       "    <tr>\n",
       "      <th>2000-01-04</th>\n",
       "      <td>1455.219971</td>\n",
       "      <td>1455.219971</td>\n",
       "      <td>1397.430054</td>\n",
       "      <td>1399.420044</td>\n",
       "      <td>1399.420044</td>\n",
       "      <td>1009000000</td>\n",
       "      <td>-14.030029</td>\n",
       "    </tr>\n",
       "    <tr>\n",
       "      <th>2000-01-05</th>\n",
       "      <td>1399.420044</td>\n",
       "      <td>1413.270020</td>\n",
       "      <td>1377.680054</td>\n",
       "      <td>1402.109985</td>\n",
       "      <td>1402.109985</td>\n",
       "      <td>1085500000</td>\n",
       "      <td>-55.799927</td>\n",
       "    </tr>\n",
       "    <tr>\n",
       "      <th>2000-01-06</th>\n",
       "      <td>1402.109985</td>\n",
       "      <td>1411.900024</td>\n",
       "      <td>1392.099976</td>\n",
       "      <td>1403.449951</td>\n",
       "      <td>1403.449951</td>\n",
       "      <td>1092300000</td>\n",
       "      <td>2.689941</td>\n",
       "    </tr>\n",
       "    <tr>\n",
       "      <th>2000-01-07</th>\n",
       "      <td>1403.449951</td>\n",
       "      <td>1441.469971</td>\n",
       "      <td>1400.729980</td>\n",
       "      <td>1441.469971</td>\n",
       "      <td>1441.469971</td>\n",
       "      <td>1225200000</td>\n",
       "      <td>1.339966</td>\n",
       "    </tr>\n",
       "  </tbody>\n",
       "</table>\n",
       "</div>"
      ],
      "text/plain": [
       "                   Open         High          Low        Close    Adj Close  \\\n",
       "Date                                                                          \n",
       "2000-01-03  1469.250000  1478.000000  1438.359985  1455.219971  1455.219971   \n",
       "2000-01-04  1455.219971  1455.219971  1397.430054  1399.420044  1399.420044   \n",
       "2000-01-05  1399.420044  1413.270020  1377.680054  1402.109985  1402.109985   \n",
       "2000-01-06  1402.109985  1411.900024  1392.099976  1403.449951  1403.449951   \n",
       "2000-01-07  1403.449951  1441.469971  1400.729980  1441.469971  1441.469971   \n",
       "\n",
       "                Volume  first_diff  \n",
       "Date                                \n",
       "2000-01-03   931800000         NaN  \n",
       "2000-01-04  1009000000  -14.030029  \n",
       "2000-01-05  1085500000  -55.799927  \n",
       "2000-01-06  1092300000    2.689941  \n",
       "2000-01-07  1225200000    1.339966  "
      ]
     },
     "execution_count": 9,
     "metadata": {},
     "output_type": "execute_result"
    }
   ],
   "source": [
    "df.head()"
   ]
  },
  {
   "cell_type": "code",
   "execution_count": 10,
   "metadata": {},
   "outputs": [
    {
     "data": {
      "text/html": [
       "<div>\n",
       "<style scoped>\n",
       "    .dataframe tbody tr th:only-of-type {\n",
       "        vertical-align: middle;\n",
       "    }\n",
       "\n",
       "    .dataframe tbody tr th {\n",
       "        vertical-align: top;\n",
       "    }\n",
       "\n",
       "    .dataframe thead th {\n",
       "        text-align: right;\n",
       "    }\n",
       "</style>\n",
       "<table border=\"1\" class=\"dataframe\">\n",
       "  <thead>\n",
       "    <tr style=\"text-align: right;\">\n",
       "      <th></th>\n",
       "      <th>Open</th>\n",
       "      <th>High</th>\n",
       "      <th>Low</th>\n",
       "      <th>Close</th>\n",
       "      <th>Adj Close</th>\n",
       "      <th>Volume</th>\n",
       "      <th>first_diff</th>\n",
       "    </tr>\n",
       "    <tr>\n",
       "      <th>Date</th>\n",
       "      <th></th>\n",
       "      <th></th>\n",
       "      <th></th>\n",
       "      <th></th>\n",
       "      <th></th>\n",
       "      <th></th>\n",
       "      <th></th>\n",
       "    </tr>\n",
       "  </thead>\n",
       "  <tbody>\n",
       "    <tr>\n",
       "      <th>2000-01-04</th>\n",
       "      <td>1455.219971</td>\n",
       "      <td>1455.219971</td>\n",
       "      <td>1397.430054</td>\n",
       "      <td>1399.420044</td>\n",
       "      <td>1399.420044</td>\n",
       "      <td>1009000000</td>\n",
       "      <td>-14.030029</td>\n",
       "    </tr>\n",
       "    <tr>\n",
       "      <th>2000-01-05</th>\n",
       "      <td>1399.420044</td>\n",
       "      <td>1413.270020</td>\n",
       "      <td>1377.680054</td>\n",
       "      <td>1402.109985</td>\n",
       "      <td>1402.109985</td>\n",
       "      <td>1085500000</td>\n",
       "      <td>-55.799927</td>\n",
       "    </tr>\n",
       "    <tr>\n",
       "      <th>2000-01-06</th>\n",
       "      <td>1402.109985</td>\n",
       "      <td>1411.900024</td>\n",
       "      <td>1392.099976</td>\n",
       "      <td>1403.449951</td>\n",
       "      <td>1403.449951</td>\n",
       "      <td>1092300000</td>\n",
       "      <td>2.689941</td>\n",
       "    </tr>\n",
       "    <tr>\n",
       "      <th>2000-01-07</th>\n",
       "      <td>1403.449951</td>\n",
       "      <td>1441.469971</td>\n",
       "      <td>1400.729980</td>\n",
       "      <td>1441.469971</td>\n",
       "      <td>1441.469971</td>\n",
       "      <td>1225200000</td>\n",
       "      <td>1.339966</td>\n",
       "    </tr>\n",
       "    <tr>\n",
       "      <th>2000-01-08</th>\n",
       "      <td>1441.469971</td>\n",
       "      <td>1464.359985</td>\n",
       "      <td>1441.469971</td>\n",
       "      <td>1457.599976</td>\n",
       "      <td>1457.599976</td>\n",
       "      <td>1064800000</td>\n",
       "      <td>38.020020</td>\n",
       "    </tr>\n",
       "  </tbody>\n",
       "</table>\n",
       "</div>"
      ],
      "text/plain": [
       "                   Open         High          Low        Close    Adj Close  \\\n",
       "Date                                                                          \n",
       "2000-01-04  1455.219971  1455.219971  1397.430054  1399.420044  1399.420044   \n",
       "2000-01-05  1399.420044  1413.270020  1377.680054  1402.109985  1402.109985   \n",
       "2000-01-06  1402.109985  1411.900024  1392.099976  1403.449951  1403.449951   \n",
       "2000-01-07  1403.449951  1441.469971  1400.729980  1441.469971  1441.469971   \n",
       "2000-01-08  1441.469971  1464.359985  1441.469971  1457.599976  1457.599976   \n",
       "\n",
       "                Volume  first_diff  \n",
       "Date                                \n",
       "2000-01-04  1009000000  -14.030029  \n",
       "2000-01-05  1085500000  -55.799927  \n",
       "2000-01-06  1092300000    2.689941  \n",
       "2000-01-07  1225200000    1.339966  \n",
       "2000-01-08  1064800000   38.020020  "
      ]
     },
     "execution_count": 10,
     "metadata": {},
     "output_type": "execute_result"
    }
   ],
   "source": [
    "df = df[1:]\n",
    "df.head()"
   ]
  },
  {
   "cell_type": "code",
   "execution_count": 11,
   "metadata": {},
   "outputs": [
    {
     "data": {
      "image/png": "[encoded data removed]",
      "text/plain": [
       "<Figure size 432x288 with 1 Axes>"
      ]
     },
     "metadata": {
      "needs_background": "light"
     },
     "output_type": "display_data"
    }
   ],
   "source": [
    "df.plot(kind = 'line', y = 'first_diff')\n",
    "plt.show()"
   ]
  },
  {
   "cell_type": "markdown",
   "metadata": {},
   "source": [
    "Although the graph may seem stationary, we will use a statistical test called the Augmented Dickey Fuller Test. The null hypothesis will be that the plot is not stationary and the alternative will be that it is not."
   ]
  },
  {
   "cell_type": "code",
   "execution_count": 15,
   "metadata": {},
   "outputs": [],
   "source": [
    "from statsmodels.tsa.stattools import adfuller"
   ]
  },
  {
   "cell_type": "code",
   "execution_count": 16,
   "metadata": {},
   "outputs": [
    {
     "data": {
      "text/plain": [
       "(-33.69507979331624,\n",
       " 0.0,\n",
       " 6,\n",
       " 7112,\n",
       " {'1%': -3.4312698062157825,\n",
       "  '5%': -2.861946481457177,\n",
       "  '10%': -2.56698636599638},\n",
       " 56206.52371807047)"
      ]
     },
     "execution_count": 16,
     "metadata": {},
     "output_type": "execute_result"
    }
   ],
   "source": [
    "adfuller(df['first_diff'])"
   ]
  },
  {
   "cell_type": "markdown",
   "metadata": {},
   "source": [
    "Since the p-value of the 'first_diff' column is less than 0.05, we can reject the null hypothesis and conclude that the graph is stationary."
   ]
  },
  {
   "cell_type": "code",
   "execution_count": null,
   "metadata": {},
   "outputs": [],
   "source": []
  }
 ],
 "metadata": {
  "kernelspec": {
   "display_name": "U4-S1-NLP (Python3)",
   "language": "python",
   "name": "u4-s1-nlp"
  },
  "language_info": {
   "codemirror_mode": {
    "name": "ipython",
    "version": 3
   },
   "file_extension": ".py",
   "mimetype": "text/x-python",
   "name": "python",
   "nbconvert_exporter": "python",
   "pygments_lexer": "ipython3",
   "version": "3.7.1"
  }
 },
 "nbformat": 4,
 "nbformat_minor": 4
}
