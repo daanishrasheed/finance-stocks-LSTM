{
 "cells": [
  {
   "cell_type": "markdown",
   "metadata": {},
   "source": [
    "\n",
    "1. Load our dataset and libraries\n",
    "2. Prepare our data via upsampling and backfilling\n",
    "3. Identify the p, d, and q terms for our ARIMA model through statistical and visual methods\n",
    "4. Train an ARIMA model\n",
    "5. Compare the model predictions and actual test data"
   ]
  },
  {
   "cell_type": "markdown",
   "metadata": {},
   "source": [
    "### Quick intro to ARIMA\n",
    "Auto Regressive Integrated Moving Average, or ARIMA for short, is a forecasting model for time-series data. \n",
    "\n",
    "ARIMA is composed of three components:\n",
    "1. AR - AutoRegression\n",
    "2. I - Integrated\n",
    "3. MA - Moving Average\n",
    "\n",
    "The ARIMA model models three aspects of a time series: seasonality (how cyclical pattern is), trend (which direction is the plot moving towards over time), and noise (how much random variability there is in the data). \n",
    "\n",
    "These aspects are represented by the parameters <em>p</em>, <em>d</em>, and <em>q</em>.\n",
    "\n",
    "- p: number of non-regressive terms (for AR)\n",
    "- d: number of non-seasonable differences (for I)\n",
    "- q: number of moving average terms (for MA)\n",
    "\n",
    "Ideally, we must transform our time series such that it remains stationary, i.e. hover around 0. Removing trends and seasonality makes modelling easier and more accurate.\n",
    "\n",
    "This part serves the purpose of providing contrasting results to our LSTM results."
   ]
  },
  {
   "cell_type": "code",
   "execution_count": 1,
   "metadata": {},
   "outputs": [],
   "source": [
    "import pandas as pd\n",
    "import matplotlib.pyplot as plt"
   ]
  },
  {
   "cell_type": "code",
   "execution_count": 5,
   "metadata": {},
   "outputs": [
    {
     "data": {
      "text/html": [
       "<div>\n",
       "<style scoped>\n",
       "    .dataframe tbody tr th:only-of-type {\n",
       "        vertical-align: middle;\n",
       "    }\n",
       "\n",
       "    .dataframe tbody tr th {\n",
       "        vertical-align: top;\n",
       "    }\n",
       "\n",
       "    .dataframe thead th {\n",
       "        text-align: right;\n",
       "    }\n",
       "</style>\n",
       "<table border=\"1\" class=\"dataframe\">\n",
       "  <thead>\n",
       "    <tr style=\"text-align: right;\">\n",
       "      <th></th>\n",
       "      <th>Date</th>\n",
       "      <th>Open</th>\n",
       "      <th>High</th>\n",
       "      <th>Low</th>\n",
       "      <th>Close</th>\n",
       "      <th>Adj Close</th>\n",
       "      <th>Volume</th>\n",
       "    </tr>\n",
       "  </thead>\n",
       "  <tbody>\n",
       "    <tr>\n",
       "      <th>0</th>\n",
       "      <td>2000-01-03</td>\n",
       "      <td>1469.250000</td>\n",
       "      <td>1478.000000</td>\n",
       "      <td>1438.359985</td>\n",
       "      <td>1455.219971</td>\n",
       "      <td>1455.219971</td>\n",
       "      <td>931800000</td>\n",
       "    </tr>\n",
       "    <tr>\n",
       "      <th>1</th>\n",
       "      <td>2000-01-04</td>\n",
       "      <td>1455.219971</td>\n",
       "      <td>1455.219971</td>\n",
       "      <td>1397.430054</td>\n",
       "      <td>1399.420044</td>\n",
       "      <td>1399.420044</td>\n",
       "      <td>1009000000</td>\n",
       "    </tr>\n",
       "    <tr>\n",
       "      <th>2</th>\n",
       "      <td>2000-01-05</td>\n",
       "      <td>1399.420044</td>\n",
       "      <td>1413.270020</td>\n",
       "      <td>1377.680054</td>\n",
       "      <td>1402.109985</td>\n",
       "      <td>1402.109985</td>\n",
       "      <td>1085500000</td>\n",
       "    </tr>\n",
       "    <tr>\n",
       "      <th>3</th>\n",
       "      <td>2000-01-06</td>\n",
       "      <td>1402.109985</td>\n",
       "      <td>1411.900024</td>\n",
       "      <td>1392.099976</td>\n",
       "      <td>1403.449951</td>\n",
       "      <td>1403.449951</td>\n",
       "      <td>1092300000</td>\n",
       "    </tr>\n",
       "    <tr>\n",
       "      <th>4</th>\n",
       "      <td>2000-01-07</td>\n",
       "      <td>1403.449951</td>\n",
       "      <td>1441.469971</td>\n",
       "      <td>1400.729980</td>\n",
       "      <td>1441.469971</td>\n",
       "      <td>1441.469971</td>\n",
       "      <td>1225200000</td>\n",
       "    </tr>\n",
       "  </tbody>\n",
       "</table>\n",
       "</div>"
      ],
      "text/plain": [
       "         Date         Open         High          Low        Close  \\\n",
       "0  2000-01-03  1469.250000  1478.000000  1438.359985  1455.219971   \n",
       "1  2000-01-04  1455.219971  1455.219971  1397.430054  1399.420044   \n",
       "2  2000-01-05  1399.420044  1413.270020  1377.680054  1402.109985   \n",
       "3  2000-01-06  1402.109985  1411.900024  1392.099976  1403.449951   \n",
       "4  2000-01-07  1403.449951  1441.469971  1400.729980  1441.469971   \n",
       "\n",
       "     Adj Close      Volume  \n",
       "0  1455.219971   931800000  \n",
       "1  1399.420044  1009000000  \n",
       "2  1402.109985  1085500000  \n",
       "3  1403.449951  1092300000  \n",
       "4  1441.469971  1225200000  "
      ]
     },
     "execution_count": 5,
     "metadata": {},
     "output_type": "execute_result"
    }
   ],
   "source": [
    "df = pd.read_csv('S&P_Stock_Data.csv')\n",
    "df.head()"
   ]
  },
  {
   "cell_type": "code",
   "execution_count": 3,
   "metadata": {
    "scrolled": true
   },
   "outputs": [
    {
     "data": {
      "image/png": "[encoded data removed]",
      "text/plain": [
       "<Figure size 432x288 with 1 Axes>"
      ]
     },
     "metadata": {
      "needs_background": "light"
     },
     "output_type": "display_data"
    }
   ],
   "source": [
    "ax = plt.gca()\n",
    "df.plot(kind = 'line', x = 'Date', y = 'Open', ax = ax)\n",
    "plt.show()"
   ]
  },
  {
   "cell_type": "markdown",
   "metadata": {},
   "source": [
    "## Data preparation\n",
    "\n",
    "Current dataset does not have continuous dates in the index because the prices are only available on weekdays. \n",
    "\n"
   ]
  },
  {
   "cell_type": "code",
   "execution_count": null,
   "metadata": {},
   "outputs": [],
   "source": [
    "# Step 4a: Call asfreq with 'D', with backfill"
   ]
  }
 ],
 "metadata": {
  "kernelspec": {
   "display_name": "U4-S1-NLP (Python3)",
   "language": "python",
   "name": "u4-s1-nlp"
  },
  "language_info": {
   "codemirror_mode": {
    "name": "ipython",
    "version": 3
   },
   "file_extension": ".py",
   "mimetype": "text/x-python",
   "name": "python",
   "nbconvert_exporter": "python",
   "pygments_lexer": "ipython3",
   "version": "3.7.1"
  }
 },
 "nbformat": 4,
 "nbformat_minor": 4
}
